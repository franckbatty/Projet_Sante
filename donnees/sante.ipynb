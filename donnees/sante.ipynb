{
 "cells": [
  {
   "cell_type": "markdown",
   "id": "6eecd06c",
   "metadata": {},
   "source": [
    "PROJET SANTE"
   ]
  },
  {
   "cell_type": "code",
   "execution_count": 5,
   "id": "22fda322",
   "metadata": {},
   "outputs": [],
   "source": [
    "import pandas as pd"
   ]
  },
  {
   "cell_type": "code",
   "execution_count": 67,
   "id": "c4490dc7",
   "metadata": {},
   "outputs": [
    {
     "data": {
      "text/html": [
       "<div>\n",
       "<style scoped>\n",
       "    .dataframe tbody tr th:only-of-type {\n",
       "        vertical-align: middle;\n",
       "    }\n",
       "\n",
       "    .dataframe tbody tr th {\n",
       "        vertical-align: top;\n",
       "    }\n",
       "\n",
       "    .dataframe thead th {\n",
       "        text-align: right;\n",
       "    }\n",
       "</style>\n",
       "<table border=\"1\" class=\"dataframe\">\n",
       "  <thead>\n",
       "    <tr style=\"text-align: right;\">\n",
       "      <th></th>\n",
       "      <th>consultation_id</th>\n",
       "      <th>patient_id</th>\n",
       "      <th>date_consultation</th>\n",
       "      <th>motif_consultation</th>\n",
       "      <th>type_consultation</th>\n",
       "      <th>service_médical</th>\n",
       "      <th>frais_consultation</th>\n",
       "      <th>medecin_id</th>\n",
       "    </tr>\n",
       "  </thead>\n",
       "  <tbody>\n",
       "    <tr>\n",
       "      <th>0</th>\n",
       "      <td>1</td>\n",
       "      <td>1</td>\n",
       "      <td>9/20/2022</td>\n",
       "      <td>ipsum aliquam non mauris morbi</td>\n",
       "      <td>urgence</td>\n",
       "      <td>dermatologie</td>\n",
       "      <td>45 000</td>\n",
       "      <td>1</td>\n",
       "    </tr>\n",
       "    <tr>\n",
       "      <th>1</th>\n",
       "      <td>2</td>\n",
       "      <td>2</td>\n",
       "      <td>3/23/2022</td>\n",
       "      <td>posuere metus vitae ipsum aliquam</td>\n",
       "      <td>examen de routine</td>\n",
       "      <td>neurologie</td>\n",
       "      <td>75000</td>\n",
       "      <td>2</td>\n",
       "    </tr>\n",
       "    <tr>\n",
       "      <th>2</th>\n",
       "      <td>3</td>\n",
       "      <td>3</td>\n",
       "      <td>11/6/2022</td>\n",
       "      <td>lobortis convallis tortor risus dapibus</td>\n",
       "      <td>visite chez le spécialiste</td>\n",
       "      <td>dermatologie</td>\n",
       "      <td>75000</td>\n",
       "      <td>3</td>\n",
       "    </tr>\n",
       "    <tr>\n",
       "      <th>3</th>\n",
       "      <td>4</td>\n",
       "      <td>4</td>\n",
       "      <td>5/13/2022</td>\n",
       "      <td>ut nulla sed accumsan felis</td>\n",
       "      <td>suivi</td>\n",
       "      <td>neurologie</td>\n",
       "      <td>75000</td>\n",
       "      <td>4</td>\n",
       "    </tr>\n",
       "    <tr>\n",
       "      <th>4</th>\n",
       "      <td>5</td>\n",
       "      <td>5</td>\n",
       "      <td>7/13/2022</td>\n",
       "      <td>et magnis dis parturient montes</td>\n",
       "      <td>suivi</td>\n",
       "      <td>cardiologie</td>\n",
       "      <td>45 000</td>\n",
       "      <td>5</td>\n",
       "    </tr>\n",
       "  </tbody>\n",
       "</table>\n",
       "</div>"
      ],
      "text/plain": [
       "   consultation_id  patient_id date_consultation  \\\n",
       "0                1           1         9/20/2022   \n",
       "1                2           2         3/23/2022   \n",
       "2                3           3         11/6/2022   \n",
       "3                4           4         5/13/2022   \n",
       "4                5           5         7/13/2022   \n",
       "\n",
       "                        motif_consultation           type_consultation  \\\n",
       "0           ipsum aliquam non mauris morbi                     urgence   \n",
       "1        posuere metus vitae ipsum aliquam           examen de routine   \n",
       "2  lobortis convallis tortor risus dapibus  visite chez le spécialiste   \n",
       "3              ut nulla sed accumsan felis                       suivi   \n",
       "4          et magnis dis parturient montes                       suivi   \n",
       "\n",
       "  service_médical frais_consultation  medecin_id  \n",
       "0    dermatologie             45 000           1  \n",
       "1      neurologie              75000           2  \n",
       "2    dermatologie              75000           3  \n",
       "3      neurologie              75000           4  \n",
       "4     cardiologie             45 000           5  "
      ]
     },
     "execution_count": 67,
     "metadata": {},
     "output_type": "execute_result"
    }
   ],
   "source": [
    "consultations=pd.read_csv('consultations.csv')\n",
    "consultations.head()"
   ]
  },
  {
   "cell_type": "code",
   "execution_count": 69,
   "id": "08100e7a",
   "metadata": {},
   "outputs": [
    {
     "data": {
      "text/plain": [
       "Index(['consultation_id', 'patient_id', 'date_consultation',\n",
       "       'motif_consultation', 'type_consultation', 'service_médical',\n",
       "       'frais_consultation', 'medecin_id'],\n",
       "      dtype='object')"
      ]
     },
     "execution_count": 69,
     "metadata": {},
     "output_type": "execute_result"
    }
   ],
   "source": [
    "consultations.columns"
   ]
  },
  {
   "cell_type": "code",
   "execution_count": 7,
   "id": "1dc1b52b",
   "metadata": {},
   "outputs": [
    {
     "data": {
      "text/plain": [
       "consultation_id       0\n",
       "patient_id            0\n",
       "date_consultation     0\n",
       "motif_consultation    0\n",
       "type_consultation     0\n",
       "service_médical       0\n",
       "frais_consultation    0\n",
       "medecin_id            0\n",
       "dtype: int64"
      ]
     },
     "execution_count": 7,
     "metadata": {},
     "output_type": "execute_result"
    }
   ],
   "source": [
    "consultations.isnull().sum()"
   ]
  },
  {
   "cell_type": "code",
   "execution_count": 9,
   "id": "167f965d",
   "metadata": {},
   "outputs": [
    {
     "name": "stdout",
     "output_type": "stream",
     "text": [
      "<class 'pandas.core.frame.DataFrame'>\n",
      "RangeIndex: 1000 entries, 0 to 999\n",
      "Data columns (total 8 columns):\n",
      " #   Column              Non-Null Count  Dtype \n",
      "---  ------              --------------  ----- \n",
      " 0   consultation_id     1000 non-null   int64 \n",
      " 1   patient_id          1000 non-null   int64 \n",
      " 2   date_consultation   1000 non-null   object\n",
      " 3   motif_consultation  1000 non-null   object\n",
      " 4   type_consultation   1000 non-null   object\n",
      " 5   service_médical     1000 non-null   object\n",
      " 6   frais_consultation  1000 non-null   object\n",
      " 7   medecin_id          1000 non-null   int64 \n",
      "dtypes: int64(3), object(5)\n",
      "memory usage: 62.6+ KB\n"
     ]
    }
   ],
   "source": [
    "consultations.info()"
   ]
  },
  {
   "cell_type": "code",
   "execution_count": null,
   "id": "1fac24e6",
   "metadata": {
    "vscode": {
     "languageId": "sql"
    }
   },
   "outputs": [],
   "source": [
    "CREATE TABLE consultation (\n",
    "    consultation_id INT PRIMARY KEY,\n",
    "    patient_id INT,\n",
    "    date_consultation VARCHAR(20),\n",
    "    motif_consultation TEXT,\n",
    "    type_consultation VARCHAR(50),\n",
    "    service_médical VARCHAR(50),\n",
    "    frais_consultation VARCHAR(20),\n",
    "    medecin_id INT\n",
    ");"
   ]
  },
  {
   "cell_type": "code",
   "execution_count": 10,
   "id": "089cf4bf",
   "metadata": {},
   "outputs": [
    {
     "data": {
      "text/plain": [
       "(1000, 8)"
      ]
     },
     "execution_count": 10,
     "metadata": {},
     "output_type": "execute_result"
    }
   ],
   "source": [
    "consultations.shape"
   ]
  },
  {
   "cell_type": "code",
   "execution_count": 11,
   "id": "3e190ac9",
   "metadata": {},
   "outputs": [
    {
     "data": {
      "text/plain": [
       "type_consultation\n",
       "visite chez le spécialiste    260\n",
       "urgence                       251\n",
       "suivi                         249\n",
       "examen de routine             240\n",
       "Name: count, dtype: int64"
      ]
     },
     "execution_count": 11,
     "metadata": {},
     "output_type": "execute_result"
    }
   ],
   "source": [
    "consultations['type_consultation'].value_counts()"
   ]
  },
  {
   "cell_type": "code",
   "execution_count": 12,
   "id": "74f2e8f2",
   "metadata": {},
   "outputs": [
    {
     "data": {
      "text/plain": [
       "service_médical\n",
       "cardiologie     344\n",
       "dermatologie    331\n",
       "neurologie      325\n",
       "Name: count, dtype: int64"
      ]
     },
     "execution_count": 12,
     "metadata": {},
     "output_type": "execute_result"
    }
   ],
   "source": [
    "consultations['service_médical'].value_counts()"
   ]
  },
  {
   "cell_type": "code",
   "execution_count": 22,
   "id": "5f11f806",
   "metadata": {},
   "outputs": [
    {
     "data": {
      "text/plain": [
       "array(['45\\u202f000', '75000', '85000'], dtype=object)"
      ]
     },
     "execution_count": 22,
     "metadata": {},
     "output_type": "execute_result"
    }
   ],
   "source": [
    "consultations['frais_consultation'].unique()"
   ]
  },
  {
   "cell_type": "code",
   "execution_count": 26,
   "id": "ebc22509",
   "metadata": {},
   "outputs": [
    {
     "data": {
      "text/plain": [
       "frais_consultation\n",
       "85000     339\n",
       "75000     333\n",
       "45 000    328\n",
       "Name: count, dtype: int64"
      ]
     },
     "execution_count": 26,
     "metadata": {},
     "output_type": "execute_result"
    }
   ],
   "source": [
    "consultations['frais_consultation'].value_counts()"
   ]
  },
  {
   "cell_type": "code",
   "execution_count": 35,
   "id": "c9b5bbeb",
   "metadata": {},
   "outputs": [
    {
     "data": {
      "text/plain": [
       "array(['45\\u202f000', '75000', '85000'], dtype=object)"
      ]
     },
     "execution_count": 35,
     "metadata": {},
     "output_type": "execute_result"
    }
   ],
   "source": [
    "consultations['frais_consultation'].unique()"
   ]
  },
  {
   "cell_type": "code",
   "execution_count": 36,
   "id": "11aa0a29",
   "metadata": {},
   "outputs": [
    {
     "data": {
      "text/html": [
       "<div>\n",
       "<style scoped>\n",
       "    .dataframe tbody tr th:only-of-type {\n",
       "        vertical-align: middle;\n",
       "    }\n",
       "\n",
       "    .dataframe tbody tr th {\n",
       "        vertical-align: top;\n",
       "    }\n",
       "\n",
       "    .dataframe thead th {\n",
       "        text-align: right;\n",
       "    }\n",
       "</style>\n",
       "<table border=\"1\" class=\"dataframe\">\n",
       "  <thead>\n",
       "    <tr style=\"text-align: right;\">\n",
       "      <th></th>\n",
       "      <th>consultation_id</th>\n",
       "      <th>patient_id</th>\n",
       "      <th>date_consultation</th>\n",
       "      <th>motif_consultation</th>\n",
       "      <th>type_consultation</th>\n",
       "      <th>service_médical</th>\n",
       "      <th>frais_consultation</th>\n",
       "      <th>medecin_id</th>\n",
       "    </tr>\n",
       "  </thead>\n",
       "  <tbody>\n",
       "    <tr>\n",
       "      <th>0</th>\n",
       "      <td>1</td>\n",
       "      <td>1</td>\n",
       "      <td>9/20/2022</td>\n",
       "      <td>ipsum aliquam non mauris morbi</td>\n",
       "      <td>urgence</td>\n",
       "      <td>dermatologie</td>\n",
       "      <td>45 000</td>\n",
       "      <td>1</td>\n",
       "    </tr>\n",
       "    <tr>\n",
       "      <th>4</th>\n",
       "      <td>5</td>\n",
       "      <td>5</td>\n",
       "      <td>7/13/2022</td>\n",
       "      <td>et magnis dis parturient montes</td>\n",
       "      <td>suivi</td>\n",
       "      <td>cardiologie</td>\n",
       "      <td>45 000</td>\n",
       "      <td>5</td>\n",
       "    </tr>\n",
       "    <tr>\n",
       "      <th>6</th>\n",
       "      <td>7</td>\n",
       "      <td>7</td>\n",
       "      <td>9/14/2022</td>\n",
       "      <td>blandit ultrices enim lorem ipsum</td>\n",
       "      <td>visite chez le spécialiste</td>\n",
       "      <td>neurologie</td>\n",
       "      <td>45 000</td>\n",
       "      <td>7</td>\n",
       "    </tr>\n",
       "    <tr>\n",
       "      <th>8</th>\n",
       "      <td>9</td>\n",
       "      <td>9</td>\n",
       "      <td>8/9/2022</td>\n",
       "      <td>phasellus id sapien in sapien</td>\n",
       "      <td>visite chez le spécialiste</td>\n",
       "      <td>neurologie</td>\n",
       "      <td>45 000</td>\n",
       "      <td>9</td>\n",
       "    </tr>\n",
       "    <tr>\n",
       "      <th>11</th>\n",
       "      <td>12</td>\n",
       "      <td>12</td>\n",
       "      <td>11/12/2022</td>\n",
       "      <td>vestibulum sagittis sapien cum sociis</td>\n",
       "      <td>visite chez le spécialiste</td>\n",
       "      <td>cardiologie</td>\n",
       "      <td>45 000</td>\n",
       "      <td>12</td>\n",
       "    </tr>\n",
       "    <tr>\n",
       "      <th>...</th>\n",
       "      <td>...</td>\n",
       "      <td>...</td>\n",
       "      <td>...</td>\n",
       "      <td>...</td>\n",
       "      <td>...</td>\n",
       "      <td>...</td>\n",
       "      <td>...</td>\n",
       "      <td>...</td>\n",
       "    </tr>\n",
       "    <tr>\n",
       "      <th>985</th>\n",
       "      <td>986</td>\n",
       "      <td>986</td>\n",
       "      <td>6/4/2022</td>\n",
       "      <td>ante vivamus tortor duis mattis</td>\n",
       "      <td>suivi</td>\n",
       "      <td>dermatologie</td>\n",
       "      <td>45 000</td>\n",
       "      <td>986</td>\n",
       "    </tr>\n",
       "    <tr>\n",
       "      <th>987</th>\n",
       "      <td>988</td>\n",
       "      <td>988</td>\n",
       "      <td>2/8/2022</td>\n",
       "      <td>nisi nam ultrices libero non</td>\n",
       "      <td>examen de routine</td>\n",
       "      <td>dermatologie</td>\n",
       "      <td>45 000</td>\n",
       "      <td>988</td>\n",
       "    </tr>\n",
       "    <tr>\n",
       "      <th>990</th>\n",
       "      <td>991</td>\n",
       "      <td>991</td>\n",
       "      <td>2/16/2022</td>\n",
       "      <td>nullam varius nulla facilisi cras</td>\n",
       "      <td>suivi</td>\n",
       "      <td>dermatologie</td>\n",
       "      <td>45 000</td>\n",
       "      <td>991</td>\n",
       "    </tr>\n",
       "    <tr>\n",
       "      <th>994</th>\n",
       "      <td>995</td>\n",
       "      <td>995</td>\n",
       "      <td>1/13/2022</td>\n",
       "      <td>iaculis congue vivamus metus arcu</td>\n",
       "      <td>suivi</td>\n",
       "      <td>dermatologie</td>\n",
       "      <td>45 000</td>\n",
       "      <td>995</td>\n",
       "    </tr>\n",
       "    <tr>\n",
       "      <th>998</th>\n",
       "      <td>999</td>\n",
       "      <td>999</td>\n",
       "      <td>10/14/2022</td>\n",
       "      <td>lectus vestibulum quam sapien varius</td>\n",
       "      <td>visite chez le spécialiste</td>\n",
       "      <td>dermatologie</td>\n",
       "      <td>45 000</td>\n",
       "      <td>999</td>\n",
       "    </tr>\n",
       "  </tbody>\n",
       "</table>\n",
       "<p>328 rows × 8 columns</p>\n",
       "</div>"
      ],
      "text/plain": [
       "     consultation_id  patient_id date_consultation  \\\n",
       "0                  1           1         9/20/2022   \n",
       "4                  5           5         7/13/2022   \n",
       "6                  7           7         9/14/2022   \n",
       "8                  9           9          8/9/2022   \n",
       "11                12          12        11/12/2022   \n",
       "..               ...         ...               ...   \n",
       "985              986         986          6/4/2022   \n",
       "987              988         988          2/8/2022   \n",
       "990              991         991         2/16/2022   \n",
       "994              995         995         1/13/2022   \n",
       "998              999         999        10/14/2022   \n",
       "\n",
       "                        motif_consultation           type_consultation  \\\n",
       "0           ipsum aliquam non mauris morbi                     urgence   \n",
       "4          et magnis dis parturient montes                       suivi   \n",
       "6        blandit ultrices enim lorem ipsum  visite chez le spécialiste   \n",
       "8            phasellus id sapien in sapien  visite chez le spécialiste   \n",
       "11   vestibulum sagittis sapien cum sociis  visite chez le spécialiste   \n",
       "..                                     ...                         ...   \n",
       "985        ante vivamus tortor duis mattis                       suivi   \n",
       "987           nisi nam ultrices libero non           examen de routine   \n",
       "990      nullam varius nulla facilisi cras                       suivi   \n",
       "994      iaculis congue vivamus metus arcu                       suivi   \n",
       "998   lectus vestibulum quam sapien varius  visite chez le spécialiste   \n",
       "\n",
       "    service_médical frais_consultation  medecin_id  \n",
       "0      dermatologie             45 000           1  \n",
       "4       cardiologie             45 000           5  \n",
       "6        neurologie             45 000           7  \n",
       "8        neurologie             45 000           9  \n",
       "11      cardiologie             45 000          12  \n",
       "..              ...                ...         ...  \n",
       "985    dermatologie             45 000         986  \n",
       "987    dermatologie             45 000         988  \n",
       "990    dermatologie             45 000         991  \n",
       "994    dermatologie             45 000         995  \n",
       "998    dermatologie             45 000         999  \n",
       "\n",
       "[328 rows x 8 columns]"
      ]
     },
     "execution_count": 36,
     "metadata": {},
     "output_type": "execute_result"
    }
   ],
   "source": [
    "consultations[consultations['frais_consultation']=='45\\u202f000']"
   ]
  },
  {
   "cell_type": "code",
   "execution_count": 37,
   "id": "74794dea",
   "metadata": {},
   "outputs": [],
   "source": [
    "consultations['frais_consultation'].replace('45\\u202f000', 45000, inplace=True)"
   ]
  },
  {
   "cell_type": "code",
   "execution_count": 38,
   "id": "1f5595fe",
   "metadata": {},
   "outputs": [
    {
     "data": {
      "text/plain": [
       "frais_consultation\n",
       "85000    339\n",
       "75000    333\n",
       "45000    328\n",
       "Name: count, dtype: int64"
      ]
     },
     "execution_count": 38,
     "metadata": {},
     "output_type": "execute_result"
    }
   ],
   "source": [
    "consultations['frais_consultation'].value_counts()"
   ]
  },
  {
   "cell_type": "code",
   "execution_count": 40,
   "id": "1cf29d3c",
   "metadata": {},
   "outputs": [],
   "source": [
    "consultations['frais_consultation']=consultations['frais_consultation'].astype(int)"
   ]
  },
  {
   "cell_type": "code",
   "execution_count": 41,
   "id": "8a64492a",
   "metadata": {},
   "outputs": [
    {
     "name": "stdout",
     "output_type": "stream",
     "text": [
      "<class 'pandas.core.frame.DataFrame'>\n",
      "RangeIndex: 1000 entries, 0 to 999\n",
      "Data columns (total 8 columns):\n",
      " #   Column              Non-Null Count  Dtype \n",
      "---  ------              --------------  ----- \n",
      " 0   consultation_id     1000 non-null   int64 \n",
      " 1   patient_id          1000 non-null   int64 \n",
      " 2   date_consultation   1000 non-null   object\n",
      " 3   motif_consultation  1000 non-null   object\n",
      " 4   type_consultation   1000 non-null   object\n",
      " 5   service_médical     1000 non-null   object\n",
      " 6   frais_consultation  1000 non-null   int64 \n",
      " 7   medecin_id          1000 non-null   int64 \n",
      "dtypes: int64(4), object(4)\n",
      "memory usage: 62.6+ KB\n"
     ]
    }
   ],
   "source": [
    "consultations.info()"
   ]
  },
  {
   "cell_type": "code",
   "execution_count": null,
   "id": "a1ec9c82",
   "metadata": {
    "vscode": {
     "languageId": "sql"
    }
   },
   "outputs": [],
   "source": [
    "CREATE TABLE consultation (\n",
    "    consultation_id INT PRIMARY KEY,\n",
    "    patient_id INT,\n",
    "    date_consultation VARCHAR(20),\n",
    "    motif_consultation TEXT,\n",
    "    type_consultation VARCHAR(50),\n",
    "    service_médical VARCHAR(50),\n",
    "    frais_consultation VARCHAR(20),\n",
    "    medecin_id INT\n",
    ");"
   ]
  },
  {
   "cell_type": "markdown",
   "id": "67a821d2",
   "metadata": {},
   "source": [
    "## Base Diagnostics"
   ]
  },
  {
   "cell_type": "code",
   "execution_count": 43,
   "id": "7b64e55c",
   "metadata": {},
   "outputs": [
    {
     "data": {
      "text/html": [
       "<div>\n",
       "<style scoped>\n",
       "    .dataframe tbody tr th:only-of-type {\n",
       "        vertical-align: middle;\n",
       "    }\n",
       "\n",
       "    .dataframe tbody tr th {\n",
       "        vertical-align: top;\n",
       "    }\n",
       "\n",
       "    .dataframe thead th {\n",
       "        text-align: right;\n",
       "    }\n",
       "</style>\n",
       "<table border=\"1\" class=\"dataframe\">\n",
       "  <thead>\n",
       "    <tr style=\"text-align: right;\">\n",
       "      <th></th>\n",
       "      <th>diagnostic_id</th>\n",
       "      <th>consultation_id</th>\n",
       "      <th>diagnostic</th>\n",
       "      <th>gravité</th>\n",
       "      <th>état_sortie</th>\n",
       "    </tr>\n",
       "  </thead>\n",
       "  <tbody>\n",
       "    <tr>\n",
       "      <th>0</th>\n",
       "      <td>1</td>\n",
       "      <td>1</td>\n",
       "      <td>penatibus et magnis dis parturient montes nasc...</td>\n",
       "      <td>elevee</td>\n",
       "      <td>en attente de resultats</td>\n",
       "    </tr>\n",
       "    <tr>\n",
       "      <th>1</th>\n",
       "      <td>2</td>\n",
       "      <td>2</td>\n",
       "      <td>ligula nec sem duis aliquam convallis nunc pro...</td>\n",
       "      <td>moderee</td>\n",
       "      <td>en traitement</td>\n",
       "    </tr>\n",
       "    <tr>\n",
       "      <th>2</th>\n",
       "      <td>3</td>\n",
       "      <td>3</td>\n",
       "      <td>bibendum morbi non quam nec dui luctus rutrum ...</td>\n",
       "      <td>faible</td>\n",
       "      <td>en traitement</td>\n",
       "    </tr>\n",
       "    <tr>\n",
       "      <th>3</th>\n",
       "      <td>4</td>\n",
       "      <td>4</td>\n",
       "      <td>tristique in tempus sit amet sem fusce consequ...</td>\n",
       "      <td>faible</td>\n",
       "      <td>en traitement</td>\n",
       "    </tr>\n",
       "    <tr>\n",
       "      <th>4</th>\n",
       "      <td>5</td>\n",
       "      <td>5</td>\n",
       "      <td>sit amet lobortis sapien sapien non mi integer...</td>\n",
       "      <td>moderee</td>\n",
       "      <td>en attente de resultats</td>\n",
       "    </tr>\n",
       "  </tbody>\n",
       "</table>\n",
       "</div>"
      ],
      "text/plain": [
       "   diagnostic_id  consultation_id  \\\n",
       "0              1                1   \n",
       "1              2                2   \n",
       "2              3                3   \n",
       "3              4                4   \n",
       "4              5                5   \n",
       "\n",
       "                                          diagnostic  gravité  \\\n",
       "0  penatibus et magnis dis parturient montes nasc...   elevee   \n",
       "1  ligula nec sem duis aliquam convallis nunc pro...  moderee   \n",
       "2  bibendum morbi non quam nec dui luctus rutrum ...   faible   \n",
       "3  tristique in tempus sit amet sem fusce consequ...   faible   \n",
       "4  sit amet lobortis sapien sapien non mi integer...  moderee   \n",
       "\n",
       "               état_sortie  \n",
       "0  en attente de resultats  \n",
       "1            en traitement  \n",
       "2            en traitement  \n",
       "3            en traitement  \n",
       "4  en attente de resultats  "
      ]
     },
     "execution_count": 43,
     "metadata": {},
     "output_type": "execute_result"
    }
   ],
   "source": [
    "diagnostics=pd.read_csv('diagnostics.csv')\n",
    "diagnostics.head()"
   ]
  },
  {
   "cell_type": "code",
   "execution_count": 44,
   "id": "8e2a4091",
   "metadata": {},
   "outputs": [
    {
     "name": "stdout",
     "output_type": "stream",
     "text": [
      "<class 'pandas.core.frame.DataFrame'>\n",
      "RangeIndex: 1000 entries, 0 to 999\n",
      "Data columns (total 5 columns):\n",
      " #   Column           Non-Null Count  Dtype \n",
      "---  ------           --------------  ----- \n",
      " 0   diagnostic_id    1000 non-null   int64 \n",
      " 1   consultation_id  1000 non-null   int64 \n",
      " 2   diagnostic       1000 non-null   object\n",
      " 3   gravité          1000 non-null   object\n",
      " 4   état_sortie      1000 non-null   object\n",
      "dtypes: int64(2), object(3)\n",
      "memory usage: 39.2+ KB\n"
     ]
    }
   ],
   "source": [
    "diagnostics.info()"
   ]
  },
  {
   "cell_type": "code",
   "execution_count": 47,
   "id": "c36cdb7d",
   "metadata": {},
   "outputs": [
    {
     "data": {
      "text/plain": [
       "np.int64(0)"
      ]
     },
     "execution_count": 47,
     "metadata": {},
     "output_type": "execute_result"
    }
   ],
   "source": [
    "diagnostics.duplicated().sum()"
   ]
  },
  {
   "cell_type": "code",
   "execution_count": 45,
   "id": "6d11481d",
   "metadata": {},
   "outputs": [
    {
     "data": {
      "text/html": [
       "<div>\n",
       "<style scoped>\n",
       "    .dataframe tbody tr th:only-of-type {\n",
       "        vertical-align: middle;\n",
       "    }\n",
       "\n",
       "    .dataframe tbody tr th {\n",
       "        vertical-align: top;\n",
       "    }\n",
       "\n",
       "    .dataframe thead th {\n",
       "        text-align: right;\n",
       "    }\n",
       "</style>\n",
       "<table border=\"1\" class=\"dataframe\">\n",
       "  <thead>\n",
       "    <tr style=\"text-align: right;\">\n",
       "      <th></th>\n",
       "      <th>diagnostic_id</th>\n",
       "      <th>consultation_id</th>\n",
       "      <th>diagnostic</th>\n",
       "      <th>gravité</th>\n",
       "      <th>état_sortie</th>\n",
       "    </tr>\n",
       "  </thead>\n",
       "  <tbody>\n",
       "    <tr>\n",
       "      <th>0</th>\n",
       "      <td>1</td>\n",
       "      <td>1</td>\n",
       "      <td>penatibus et magnis dis parturient montes nasc...</td>\n",
       "      <td>elevee</td>\n",
       "      <td>en attente de resultats</td>\n",
       "    </tr>\n",
       "    <tr>\n",
       "      <th>1</th>\n",
       "      <td>2</td>\n",
       "      <td>2</td>\n",
       "      <td>ligula nec sem duis aliquam convallis nunc pro...</td>\n",
       "      <td>moderee</td>\n",
       "      <td>en traitement</td>\n",
       "    </tr>\n",
       "  </tbody>\n",
       "</table>\n",
       "</div>"
      ],
      "text/plain": [
       "   diagnostic_id  consultation_id  \\\n",
       "0              1                1   \n",
       "1              2                2   \n",
       "\n",
       "                                          diagnostic  gravité  \\\n",
       "0  penatibus et magnis dis parturient montes nasc...   elevee   \n",
       "1  ligula nec sem duis aliquam convallis nunc pro...  moderee   \n",
       "\n",
       "               état_sortie  \n",
       "0  en attente de resultats  \n",
       "1            en traitement  "
      ]
     },
     "execution_count": 45,
     "metadata": {},
     "output_type": "execute_result"
    }
   ],
   "source": [
    "diagnostics.head(2)"
   ]
  },
  {
   "cell_type": "code",
   "execution_count": 46,
   "id": "e21cb716",
   "metadata": {},
   "outputs": [
    {
     "data": {
      "text/plain": [
       "gravité\n",
       "elevee     356\n",
       "moderee    329\n",
       "faible     315\n",
       "Name: count, dtype: int64"
      ]
     },
     "execution_count": 46,
     "metadata": {},
     "output_type": "execute_result"
    }
   ],
   "source": [
    "diagnostics['gravité'].value_counts()"
   ]
  },
  {
   "cell_type": "code",
   "execution_count": 48,
   "id": "19cb3f91",
   "metadata": {},
   "outputs": [
    {
     "data": {
      "text/plain": [
       "état_sortie\n",
       "gueri                      360\n",
       "en traitement              333\n",
       "en attente de resultats    307\n",
       "Name: count, dtype: int64"
      ]
     },
     "execution_count": 48,
     "metadata": {},
     "output_type": "execute_result"
    }
   ],
   "source": [
    "diagnostics['état_sortie'].value_counts()"
   ]
  },
  {
   "cell_type": "code",
   "execution_count": null,
   "id": "196b2037",
   "metadata": {
    "vscode": {
     "languageId": "sql"
    }
   },
   "outputs": [],
   "source": [
    "CREATE TABLE diagnostics (\n",
    "    diagnostic_id INT PRIMARY KEY,\n",
    "    consultation_id INT,\n",
    "    diagnostic TEXT,\n",
    "    gravité VARCHAR(50),\n",
    "    état_sortie VARCHAR(50),\n",
    "    FOREIGN KEY (consultation_id) REFERENCES consultation(consultation_id)\n",
    ");"
   ]
  },
  {
   "cell_type": "code",
   "execution_count": null,
   "id": "f3c814cb",
   "metadata": {},
   "outputs": [],
   "source": []
  },
  {
   "cell_type": "markdown",
   "id": "c5c178f1",
   "metadata": {},
   "source": [
    "## Base Medecins"
   ]
  },
  {
   "cell_type": "code",
   "execution_count": 50,
   "id": "f081ac66",
   "metadata": {},
   "outputs": [
    {
     "data": {
      "text/html": [
       "<div>\n",
       "<style scoped>\n",
       "    .dataframe tbody tr th:only-of-type {\n",
       "        vertical-align: middle;\n",
       "    }\n",
       "\n",
       "    .dataframe tbody tr th {\n",
       "        vertical-align: top;\n",
       "    }\n",
       "\n",
       "    .dataframe thead th {\n",
       "        text-align: right;\n",
       "    }\n",
       "</style>\n",
       "<table border=\"1\" class=\"dataframe\">\n",
       "  <thead>\n",
       "    <tr style=\"text-align: right;\">\n",
       "      <th></th>\n",
       "      <th>medecin_id</th>\n",
       "      <th>nom_medecin</th>\n",
       "      <th>service_medical</th>\n",
       "    </tr>\n",
       "  </thead>\n",
       "  <tbody>\n",
       "    <tr>\n",
       "      <th>0</th>\n",
       "      <td>1</td>\n",
       "      <td>Lewes Spurge</td>\n",
       "      <td>Oncologie</td>\n",
       "    </tr>\n",
       "    <tr>\n",
       "      <th>1</th>\n",
       "      <td>2</td>\n",
       "      <td>Gussie Hathwood</td>\n",
       "      <td>Cardiologie</td>\n",
       "    </tr>\n",
       "    <tr>\n",
       "      <th>2</th>\n",
       "      <td>3</td>\n",
       "      <td>Ulric Recher</td>\n",
       "      <td>Cardiologie</td>\n",
       "    </tr>\n",
       "    <tr>\n",
       "      <th>3</th>\n",
       "      <td>4</td>\n",
       "      <td>Eula Duckels</td>\n",
       "      <td>Oncologie</td>\n",
       "    </tr>\n",
       "    <tr>\n",
       "      <th>4</th>\n",
       "      <td>5</td>\n",
       "      <td>Ruddy Elphee</td>\n",
       "      <td>Oncologie</td>\n",
       "    </tr>\n",
       "  </tbody>\n",
       "</table>\n",
       "</div>"
      ],
      "text/plain": [
       "   medecin_id      nom_medecin service_medical\n",
       "0           1     Lewes Spurge       Oncologie\n",
       "1           2  Gussie Hathwood     Cardiologie\n",
       "2           3     Ulric Recher     Cardiologie\n",
       "3           4     Eula Duckels       Oncologie\n",
       "4           5     Ruddy Elphee       Oncologie"
      ]
     },
     "execution_count": 50,
     "metadata": {},
     "output_type": "execute_result"
    }
   ],
   "source": [
    "medecins=pd.read_csv('medecins.csv')\n",
    "medecins.head()"
   ]
  },
  {
   "cell_type": "code",
   "execution_count": 73,
   "id": "bab7f67d",
   "metadata": {},
   "outputs": [
    {
     "name": "stdout",
     "output_type": "stream",
     "text": [
      "<class 'pandas.core.frame.DataFrame'>\n",
      "RangeIndex: 1000 entries, 0 to 999\n",
      "Data columns (total 3 columns):\n",
      " #   Column           Non-Null Count  Dtype \n",
      "---  ------           --------------  ----- \n",
      " 0   medecin_id       1000 non-null   int64 \n",
      " 1   nom_medecin      1000 non-null   object\n",
      " 2   service_medical  1000 non-null   object\n",
      "dtypes: int64(1), object(2)\n",
      "memory usage: 23.6+ KB\n"
     ]
    }
   ],
   "source": [
    "medecins.info()"
   ]
  },
  {
   "cell_type": "code",
   "execution_count": 51,
   "id": "6d175bf9",
   "metadata": {},
   "outputs": [
    {
     "data": {
      "text/plain": [
       "medecin_id         0\n",
       "nom_medecin        0\n",
       "service_medical    0\n",
       "dtype: int64"
      ]
     },
     "execution_count": 51,
     "metadata": {},
     "output_type": "execute_result"
    }
   ],
   "source": [
    "medecins.isnull().sum()"
   ]
  },
  {
   "cell_type": "code",
   "execution_count": 52,
   "id": "2057710a",
   "metadata": {},
   "outputs": [
    {
     "data": {
      "text/plain": [
       "np.int64(0)"
      ]
     },
     "execution_count": 52,
     "metadata": {},
     "output_type": "execute_result"
    }
   ],
   "source": [
    "medecins.duplicated().sum()"
   ]
  },
  {
   "cell_type": "code",
   "execution_count": 53,
   "id": "0d94efcd",
   "metadata": {},
   "outputs": [
    {
     "data": {
      "text/plain": [
       "array(['Oncologie', 'Cardiologie', 'Pediatrie', 'Neurologie'],\n",
       "      dtype=object)"
      ]
     },
     "execution_count": 53,
     "metadata": {},
     "output_type": "execute_result"
    }
   ],
   "source": [
    "medecins['service_medical'].unique()"
   ]
  },
  {
   "cell_type": "code",
   "execution_count": 54,
   "id": "7438d0e9",
   "metadata": {},
   "outputs": [
    {
     "data": {
      "text/plain": [
       "service_medical\n",
       "Pediatrie      276\n",
       "Cardiologie    247\n",
       "Neurologie     247\n",
       "Oncologie      230\n",
       "Name: count, dtype: int64"
      ]
     },
     "execution_count": 54,
     "metadata": {},
     "output_type": "execute_result"
    }
   ],
   "source": [
    "medecins['service_medical'].value_counts()"
   ]
  },
  {
   "cell_type": "code",
   "execution_count": null,
   "id": "eb4ee1dd",
   "metadata": {
    "vscode": {
     "languageId": "sql"
    }
   },
   "outputs": [],
   "source": [
    "CREATE TABLE medecins (\n",
    "    medecin_id INT PRIMARY KEY,\n",
    "    nom VARCHAR(100),\n",
    "    prenom VARCHAR(100),\n",
    "    service_medical VARCHAR(50),\n",
    "    specialite VARCHAR(100)\n",
    ");"
   ]
  },
  {
   "cell_type": "markdown",
   "id": "67e1817a",
   "metadata": {},
   "source": [
    "## Base patient"
   ]
  },
  {
   "cell_type": "code",
   "execution_count": 55,
   "id": "a4ad8a7c",
   "metadata": {},
   "outputs": [
    {
     "data": {
      "text/html": [
       "<div>\n",
       "<style scoped>\n",
       "    .dataframe tbody tr th:only-of-type {\n",
       "        vertical-align: middle;\n",
       "    }\n",
       "\n",
       "    .dataframe tbody tr th {\n",
       "        vertical-align: top;\n",
       "    }\n",
       "\n",
       "    .dataframe thead th {\n",
       "        text-align: right;\n",
       "    }\n",
       "</style>\n",
       "<table border=\"1\" class=\"dataframe\">\n",
       "  <thead>\n",
       "    <tr style=\"text-align: right;\">\n",
       "      <th></th>\n",
       "      <th>patient_id</th>\n",
       "      <th>nom</th>\n",
       "      <th>prenom</th>\n",
       "      <th>sexe</th>\n",
       "      <th>age</th>\n",
       "      <th>situation_matrimonial</th>\n",
       "      <th>statut_professionel</th>\n",
       "      <th>date_naissance</th>\n",
       "      <th>Telephone</th>\n",
       "    </tr>\n",
       "  </thead>\n",
       "  <tbody>\n",
       "    <tr>\n",
       "      <th>0</th>\n",
       "      <td>1</td>\n",
       "      <td>Clemens</td>\n",
       "      <td>Ewdale</td>\n",
       "      <td>female</td>\n",
       "      <td>18</td>\n",
       "      <td>marie</td>\n",
       "      <td>etudiant</td>\n",
       "      <td>5/5/1967</td>\n",
       "      <td>302-915-1592</td>\n",
       "    </tr>\n",
       "    <tr>\n",
       "      <th>1</th>\n",
       "      <td>2</td>\n",
       "      <td>Dick</td>\n",
       "      <td>Drable</td>\n",
       "      <td>male</td>\n",
       "      <td>74</td>\n",
       "      <td>divorce</td>\n",
       "      <td>etudiant</td>\n",
       "      <td>2/27/2002</td>\n",
       "      <td>303-304-7634</td>\n",
       "    </tr>\n",
       "    <tr>\n",
       "      <th>2</th>\n",
       "      <td>3</td>\n",
       "      <td>Riki</td>\n",
       "      <td>Colombier</td>\n",
       "      <td>female</td>\n",
       "      <td>33</td>\n",
       "      <td>celibataire</td>\n",
       "      <td>etudiant</td>\n",
       "      <td>9/14/1966</td>\n",
       "      <td>864-989-6971</td>\n",
       "    </tr>\n",
       "    <tr>\n",
       "      <th>3</th>\n",
       "      <td>4</td>\n",
       "      <td>Osmund</td>\n",
       "      <td>Cordsen</td>\n",
       "      <td>female</td>\n",
       "      <td>65</td>\n",
       "      <td>celibataire</td>\n",
       "      <td>chomeur</td>\n",
       "      <td>5/1/1926</td>\n",
       "      <td>868-180-6891</td>\n",
       "    </tr>\n",
       "    <tr>\n",
       "      <th>4</th>\n",
       "      <td>5</td>\n",
       "      <td>Theresina</td>\n",
       "      <td>Gurr</td>\n",
       "      <td>male</td>\n",
       "      <td>48</td>\n",
       "      <td>celibataire</td>\n",
       "      <td>employe</td>\n",
       "      <td>9/18/1923</td>\n",
       "      <td>917-348-3235</td>\n",
       "    </tr>\n",
       "  </tbody>\n",
       "</table>\n",
       "</div>"
      ],
      "text/plain": [
       "   patient_id        nom     prenom    sexe  age situation_matrimonial  \\\n",
       "0           1    Clemens     Ewdale  female   18                 marie   \n",
       "1           2       Dick     Drable    male   74               divorce   \n",
       "2           3       Riki  Colombier  female   33           celibataire   \n",
       "3           4     Osmund    Cordsen  female   65           celibataire   \n",
       "4           5  Theresina       Gurr    male   48           celibataire   \n",
       "\n",
       "  statut_professionel date_naissance     Telephone  \n",
       "0            etudiant       5/5/1967  302-915-1592  \n",
       "1            etudiant      2/27/2002  303-304-7634  \n",
       "2            etudiant      9/14/1966  864-989-6971  \n",
       "3             chomeur       5/1/1926  868-180-6891  \n",
       "4             employe      9/18/1923  917-348-3235  "
      ]
     },
     "execution_count": 55,
     "metadata": {},
     "output_type": "execute_result"
    }
   ],
   "source": [
    "patient = pd.read_csv('patient.csv')\n",
    "patient.head()"
   ]
  },
  {
   "cell_type": "code",
   "execution_count": 70,
   "id": "aa0f3dbe",
   "metadata": {},
   "outputs": [
    {
     "name": "stdout",
     "output_type": "stream",
     "text": [
      "<class 'pandas.core.frame.DataFrame'>\n",
      "RangeIndex: 1000 entries, 0 to 999\n",
      "Data columns (total 9 columns):\n",
      " #   Column                 Non-Null Count  Dtype \n",
      "---  ------                 --------------  ----- \n",
      " 0   patient_id             1000 non-null   int64 \n",
      " 1   nom                    1000 non-null   object\n",
      " 2   prenom                 1000 non-null   object\n",
      " 3   sexe                   1000 non-null   object\n",
      " 4   age                    1000 non-null   int64 \n",
      " 5   situation_matrimonial  1000 non-null   object\n",
      " 6   statut_professionel    1000 non-null   object\n",
      " 7   date_naissance         1000 non-null   object\n",
      " 8   Telephone              1000 non-null   object\n",
      "dtypes: int64(2), object(7)\n",
      "memory usage: 70.4+ KB\n"
     ]
    }
   ],
   "source": [
    "patient.info()"
   ]
  },
  {
   "cell_type": "code",
   "execution_count": 56,
   "id": "d9eb9ae8",
   "metadata": {},
   "outputs": [
    {
     "data": {
      "text/plain": [
       "patient_id               0\n",
       "nom                      0\n",
       "prenom                   0\n",
       "sexe                     0\n",
       "age                      0\n",
       "situation_matrimonial    0\n",
       "statut_professionel      0\n",
       "date_naissance           0\n",
       "Telephone                0\n",
       "dtype: int64"
      ]
     },
     "execution_count": 56,
     "metadata": {},
     "output_type": "execute_result"
    }
   ],
   "source": [
    "patient.isnull().sum()"
   ]
  },
  {
   "cell_type": "code",
   "execution_count": 58,
   "id": "4ac0b61f",
   "metadata": {},
   "outputs": [
    {
     "data": {
      "text/html": [
       "<div>\n",
       "<style scoped>\n",
       "    .dataframe tbody tr th:only-of-type {\n",
       "        vertical-align: middle;\n",
       "    }\n",
       "\n",
       "    .dataframe tbody tr th {\n",
       "        vertical-align: top;\n",
       "    }\n",
       "\n",
       "    .dataframe thead th {\n",
       "        text-align: right;\n",
       "    }\n",
       "</style>\n",
       "<table border=\"1\" class=\"dataframe\">\n",
       "  <thead>\n",
       "    <tr style=\"text-align: right;\">\n",
       "      <th></th>\n",
       "      <th>patient_id</th>\n",
       "      <th>nom</th>\n",
       "      <th>prenom</th>\n",
       "      <th>sexe</th>\n",
       "      <th>age</th>\n",
       "      <th>situation_matrimonial</th>\n",
       "      <th>statut_professionel</th>\n",
       "      <th>date_naissance</th>\n",
       "      <th>Telephone</th>\n",
       "    </tr>\n",
       "  </thead>\n",
       "  <tbody>\n",
       "  </tbody>\n",
       "</table>\n",
       "</div>"
      ],
      "text/plain": [
       "Empty DataFrame\n",
       "Columns: [patient_id, nom, prenom, sexe, age, situation_matrimonial, statut_professionel, date_naissance, Telephone]\n",
       "Index: []"
      ]
     },
     "execution_count": 58,
     "metadata": {},
     "output_type": "execute_result"
    }
   ],
   "source": [
    "patient[patient.duplicated()]"
   ]
  },
  {
   "cell_type": "code",
   "execution_count": 60,
   "id": "56ecaf7d",
   "metadata": {},
   "outputs": [
    {
     "data": {
      "text/plain": [
       "statut_professionel\n",
       "etudiant    343\n",
       "employe     333\n",
       "chomeur     324\n",
       "Name: count, dtype: int64"
      ]
     },
     "execution_count": 60,
     "metadata": {},
     "output_type": "execute_result"
    }
   ],
   "source": [
    "patient['statut_professionel'].value_counts()"
   ]
  },
  {
   "cell_type": "code",
   "execution_count": 61,
   "id": "bccf095e",
   "metadata": {},
   "outputs": [
    {
     "data": {
      "text/plain": [
       "sexe\n",
       "female    507\n",
       "male      493\n",
       "Name: count, dtype: int64"
      ]
     },
     "execution_count": 61,
     "metadata": {},
     "output_type": "execute_result"
    }
   ],
   "source": [
    "patient['sexe'].value_counts()"
   ]
  },
  {
   "cell_type": "code",
   "execution_count": null,
   "id": "abeb6557",
   "metadata": {
    "vscode": {
     "languageId": "sql"
    }
   },
   "outputs": [],
   "source": [
    "CREATE TABLE patient (\n",
    "    patient_id INT PRIMARY KEY,\n",
    "    nom VARCHAR(100),\n",
    "    prenom VARCHAR(100),\n",
    "    date_naissance DATE,\n",
    "    sexe VARCHAR(10),\n",
    "    statut_professionel VARCHAR(100)\n",
    ");"
   ]
  },
  {
   "cell_type": "markdown",
   "id": "befafe07",
   "metadata": {},
   "source": [
    "## Base Traitement"
   ]
  },
  {
   "cell_type": "code",
   "execution_count": 62,
   "id": "b5a5648a",
   "metadata": {},
   "outputs": [
    {
     "data": {
      "text/html": [
       "<div>\n",
       "<style scoped>\n",
       "    .dataframe tbody tr th:only-of-type {\n",
       "        vertical-align: middle;\n",
       "    }\n",
       "\n",
       "    .dataframe tbody tr th {\n",
       "        vertical-align: top;\n",
       "    }\n",
       "\n",
       "    .dataframe thead th {\n",
       "        text-align: right;\n",
       "    }\n",
       "</style>\n",
       "<table border=\"1\" class=\"dataframe\">\n",
       "  <thead>\n",
       "    <tr style=\"text-align: right;\">\n",
       "      <th></th>\n",
       "      <th>traitement_id</th>\n",
       "      <th>diagnostic_id</th>\n",
       "      <th>traitement_prescrit</th>\n",
       "      <th>durée_traitement_jours</th>\n",
       "    </tr>\n",
       "  </thead>\n",
       "  <tbody>\n",
       "    <tr>\n",
       "      <th>0</th>\n",
       "      <td>1</td>\n",
       "      <td>1</td>\n",
       "      <td>medication A</td>\n",
       "      <td>26</td>\n",
       "    </tr>\n",
       "    <tr>\n",
       "      <th>1</th>\n",
       "      <td>2</td>\n",
       "      <td>2</td>\n",
       "      <td>medication A</td>\n",
       "      <td>12</td>\n",
       "    </tr>\n",
       "    <tr>\n",
       "      <th>2</th>\n",
       "      <td>3</td>\n",
       "      <td>3</td>\n",
       "      <td>medication C</td>\n",
       "      <td>27</td>\n",
       "    </tr>\n",
       "    <tr>\n",
       "      <th>3</th>\n",
       "      <td>4</td>\n",
       "      <td>4</td>\n",
       "      <td>medication B</td>\n",
       "      <td>22</td>\n",
       "    </tr>\n",
       "    <tr>\n",
       "      <th>4</th>\n",
       "      <td>5</td>\n",
       "      <td>5</td>\n",
       "      <td>medication C</td>\n",
       "      <td>19</td>\n",
       "    </tr>\n",
       "  </tbody>\n",
       "</table>\n",
       "</div>"
      ],
      "text/plain": [
       "   traitement_id  diagnostic_id traitement_prescrit  durée_traitement_jours\n",
       "0              1              1        medication A                      26\n",
       "1              2              2        medication A                      12\n",
       "2              3              3        medication C                      27\n",
       "3              4              4        medication B                      22\n",
       "4              5              5        medication C                      19"
      ]
     },
     "execution_count": 62,
     "metadata": {},
     "output_type": "execute_result"
    }
   ],
   "source": [
    "Traitements = pd.read_csv('Traitements.csv')\n",
    "Traitements.head()"
   ]
  },
  {
   "cell_type": "code",
   "execution_count": 72,
   "id": "9f0b2bff",
   "metadata": {},
   "outputs": [
    {
     "name": "stdout",
     "output_type": "stream",
     "text": [
      "<class 'pandas.core.frame.DataFrame'>\n",
      "RangeIndex: 1000 entries, 0 to 999\n",
      "Data columns (total 4 columns):\n",
      " #   Column                  Non-Null Count  Dtype \n",
      "---  ------                  --------------  ----- \n",
      " 0   traitement_id           1000 non-null   int64 \n",
      " 1   diagnostic_id           1000 non-null   int64 \n",
      " 2   traitement_prescrit     1000 non-null   object\n",
      " 3   durée_traitement_jours  1000 non-null   int64 \n",
      "dtypes: int64(3), object(1)\n",
      "memory usage: 31.4+ KB\n"
     ]
    }
   ],
   "source": [
    "Traitements.info()"
   ]
  },
  {
   "cell_type": "code",
   "execution_count": 63,
   "id": "5ea27357",
   "metadata": {},
   "outputs": [
    {
     "data": {
      "text/plain": [
       "traitement_id             0\n",
       "diagnostic_id             0\n",
       "traitement_prescrit       0\n",
       "durée_traitement_jours    0\n",
       "dtype: int64"
      ]
     },
     "execution_count": 63,
     "metadata": {},
     "output_type": "execute_result"
    }
   ],
   "source": [
    "Traitements.isnull().sum()"
   ]
  },
  {
   "cell_type": "code",
   "execution_count": 64,
   "id": "a90f92dd",
   "metadata": {},
   "outputs": [
    {
     "data": {
      "text/plain": [
       "np.int64(0)"
      ]
     },
     "execution_count": 64,
     "metadata": {},
     "output_type": "execute_result"
    }
   ],
   "source": [
    "Traitements.duplicated().sum()"
   ]
  },
  {
   "cell_type": "code",
   "execution_count": 65,
   "id": "cbc554e9",
   "metadata": {},
   "outputs": [
    {
     "data": {
      "text/plain": [
       "traitement_prescrit\n",
       "medication A    356\n",
       "medication C    328\n",
       "medication B    316\n",
       "Name: count, dtype: int64"
      ]
     },
     "execution_count": 65,
     "metadata": {},
     "output_type": "execute_result"
    }
   ],
   "source": [
    "Traitements['traitement_prescrit'].value_counts()"
   ]
  },
  {
   "cell_type": "code",
   "execution_count": null,
   "id": "03406107",
   "metadata": {
    "vscode": {
     "languageId": "sql"
    }
   },
   "outputs": [],
   "source": [
    "CREATE TABLE Traitements (\n",
    "    traitement_id INT PRIMARY KEY,\n",
    "    diagnostic_id INT,\n",
    "    traitement_prescrit TEXT,\n",
    "    date_debut DATE,\n",
    "    date_fin DATE,\n",
    "    FOREIGN KEY (diagnostic_id) REFERENCES diagnostics(diagnostic_id)\n",
    ");"
   ]
  },
  {
   "cell_type": "code",
   "execution_count": null,
   "id": "cc85e831",
   "metadata": {},
   "outputs": [],
   "source": []
  },
  {
   "cell_type": "code",
   "execution_count": null,
   "id": "01a781b8",
   "metadata": {},
   "outputs": [],
   "source": []
  },
  {
   "cell_type": "code",
   "execution_count": null,
   "id": "096bcfec",
   "metadata": {},
   "outputs": [],
   "source": []
  }
 ],
 "metadata": {
  "kernelspec": {
   "display_name": ".venv",
   "language": "python",
   "name": "python3"
  },
  "language_info": {
   "codemirror_mode": {
    "name": "ipython",
    "version": 3
   },
   "file_extension": ".py",
   "mimetype": "text/x-python",
   "name": "python",
   "nbconvert_exporter": "python",
   "pygments_lexer": "ipython3",
   "version": "3.10.9"
  }
 },
 "nbformat": 4,
 "nbformat_minor": 5
}
